{
 "cells": [
  {
   "cell_type": "markdown",
   "metadata": {},
   "source": [
    "## La boucle FOR"
   ]
  },
  {
   "cell_type": "markdown",
   "metadata": {},
   "source": [
    "Sous R, on peut programmer des suites d’analyses qui se font successivement. C'est un des intérêts de la programmation."
   ]
  },
  {
   "cell_type": "markdown",
   "metadata": {},
   "source": [
    "### La boucle FOR"
   ]
  },
  {
   "cell_type": "markdown",
   "metadata": {},
   "source": [
    "La boucle FOR permet d'exécuter une instruction sur certaines valeurs (que l'on connait !).\n",
    "\n",
    "**Exemple** : imaginons un vecteur aléatoire de taille 15. On veut ajouter le chiffre 2 à tous les nombres du vecteur à partir du rang 3 jusqu'au 10ème rang. Du rang 1 à 2 et à partir du rang 11, on ne fait rien.\n",
    "Pour cela utilisons la boucle FOR"
   ]
  },
  {
   "cell_type": "code",
   "execution_count": null,
   "metadata": {},
   "outputs": [],
   "source": [
    "# création du vecteur aléatoire\n",
    "vec <- sample(15)\n",
    "print(vec)\n",
    "\n",
    "# Avant de faire une boucle, il faut préparer le vecteur qui va recevoir le résultat.\n",
    "# Cela s'appelle une allocation de mémoire\n",
    "# Dans notre cas, on va recopier le vecteur vec\n",
    "vec2 <- vec\n",
    "\n",
    "# boucle FOR  : le résultat est le vecteur vec2\n",
    "for(ii in 3:10){vec2[ii] <- vec[ii]+2}\n",
    "# affiche le résultat\n",
    "print(vec2)"
   ]
  },
  {
   "cell_type": "markdown",
   "metadata": {},
   "source": [
    "Pour la boucle for, il faut bien respecter la synthaxe (i.e. mettre les parenthèses et les acolades au bon endroit) sinon le code ne fonctionne pas.\n",
    "\n",
    "La variable ii dans la boucle for va prendre successivement toutes les valeurs entre 3 et 10 (i.e : 3,4,5,6,7,8,9,10). Dans ce code, ces valeurs correspondent au rang du vecteur."
   ]
  },
  {
   "cell_type": "markdown",
   "metadata": {},
   "source": [
    "**Exercice 1** : Créer deux vecteurs aléatoires \"u\" et \"v\" de taille 8 chacun. Additionner ces deux vecteurs dans un troisième vecteur nommé \"w\" en utilisant une boucle for. Afficher le résultat."
   ]
  },
  {
   "cell_type": "code",
   "execution_count": null,
   "metadata": {},
   "outputs": [],
   "source": []
  },
  {
   "cell_type": "markdown",
   "metadata": {},
   "source": [
    "Cet exercice est pûrement pédagogique et peut se faire de beaucoup d'autres façons..."
   ]
  },
  {
   "cell_type": "markdown",
   "metadata": {},
   "source": [
    "**Exercice 2** : \n",
    "1. On considère une suite ($v_n$) sommant les termes 1/n avec n allant de 1 à 10. Le premier terme est $v_1 = 1$. Calculer les 10 premiers termes de la suite ($v_n$)"
   ]
  },
  {
   "cell_type": "code",
   "execution_count": null,
   "metadata": {},
   "outputs": [],
   "source": []
  },
  {
   "cell_type": "markdown",
   "metadata": {},
   "source": [
    "2. Afficher le 6ème terme de la suite $v_n$ :"
   ]
  },
  {
   "cell_type": "code",
   "execution_count": null,
   "metadata": {},
   "outputs": [],
   "source": []
  },
  {
   "cell_type": "markdown",
   "metadata": {},
   "source": [
    "3. Faire un graphique représentant la valeur des 10 premiers termes de la suite.\n",
    "\n",
    "Aidez-vous de ce lien pour faire le graphique : https://www.datanovia.com/en/fr/lessons/ggplot-line-plot/"
   ]
  },
  {
   "cell_type": "code",
   "execution_count": null,
   "metadata": {},
   "outputs": [],
   "source": []
  },
  {
   "cell_type": "markdown",
   "metadata": {},
   "source": [
    "**Exercice 3** : \n",
    "1. On considère maintenant la suite u_n définie par $u_0 = 0$ et $u_{n+1} = u_n + 3n -7$. Calculer les 100 premiers termes de la suite $u_n$. "
   ]
  },
  {
   "cell_type": "code",
   "execution_count": null,
   "metadata": {},
   "outputs": [],
   "source": []
  },
  {
   "cell_type": "markdown",
   "metadata": {},
   "source": [
    "2. Afficher le 50ème terme de la suite u_n :"
   ]
  },
  {
   "cell_type": "code",
   "execution_count": null,
   "metadata": {},
   "outputs": [],
   "source": []
  },
  {
   "cell_type": "markdown",
   "metadata": {},
   "source": [
    "3. Faire un graphique représentant la valeur des 100 premiers termes de la suite"
   ]
  },
  {
   "cell_type": "code",
   "execution_count": null,
   "metadata": {},
   "outputs": [],
   "source": []
  },
  {
   "cell_type": "markdown",
   "metadata": {},
   "source": [
    "**Exercice 4** : L'objectif de cet exercice est de coder la suite de Fibonacci. C'est une suite de nombres entiers très connue. Les deux premiers termes de la suite sont 0 (1er terme) et 1 (2ème terme). Le 3ème terme est la somme du 1er et 2ème terme. Si l'on généralise, on dit que le n-ième terme est la somme du (n-1)ième terme et du (n-2)ième terme.\n",
    "\n",
    "Le début de la suite de Fibonacci est donc : 0,1,1,2,3,5,8,13...\n",
    "\n",
    "1. Coder la suite de Fibonacci pour les 100 premiers termes de la suite."
   ]
  },
  {
   "cell_type": "code",
   "execution_count": null,
   "metadata": {},
   "outputs": [],
   "source": []
  },
  {
   "cell_type": "markdown",
   "metadata": {},
   "source": [
    "2. Représenter les 10 premiers termes de la suite de Fibonacci sur un graphique."
   ]
  },
  {
   "cell_type": "code",
   "execution_count": null,
   "metadata": {},
   "outputs": [],
   "source": []
  }
 ],
 "metadata": {
  "kernelspec": {
   "display_name": "R",
   "language": "R",
   "name": "ir"
  },
  "language_info": {
   "codemirror_mode": "r",
   "file_extension": ".r",
   "mimetype": "text/x-r-source",
   "name": "R",
   "pygments_lexer": "r",
   "version": "3.6.1"
  }
 },
 "nbformat": 4,
 "nbformat_minor": 4
}
